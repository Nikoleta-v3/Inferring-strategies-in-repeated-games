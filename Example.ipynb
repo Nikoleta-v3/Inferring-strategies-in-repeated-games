{
 "cells": [
  {
   "cell_type": "markdown",
   "id": "034446ea",
   "metadata": {},
   "source": [
    "**Imports**"
   ]
  },
  {
   "cell_type": "code",
   "execution_count": 1,
   "id": "d902cf24",
   "metadata": {},
   "outputs": [],
   "source": [
    "import axelrod as axl"
   ]
  },
  {
   "cell_type": "code",
   "execution_count": 27,
   "id": "09e6399f",
   "metadata": {},
   "outputs": [],
   "source": [
    "import itertools\n",
    "\n",
    "import numpy as np"
   ]
  },
  {
   "cell_type": "code",
   "execution_count": 3,
   "id": "17f1d655",
   "metadata": {},
   "outputs": [],
   "source": [
    "# importing the bayesian code like this for now\n",
    "\n",
    "from importlib.machinery import SourceFileLoader\n",
    "\n",
    "bayesian = SourceFileLoader(\"bayesian\", \"src/bayesian.py\").load_module()"
   ]
  },
  {
   "cell_type": "markdown",
   "id": "c4767711",
   "metadata": {},
   "source": [
    "### A few details about `axelrod`"
   ]
  },
  {
   "cell_type": "markdown",
   "id": "592c13aa",
   "metadata": {},
   "source": [
    "We can use `axelrod` to simulate the interaction of a given memory one strategy and of a sequence."
   ]
  },
  {
   "cell_type": "code",
   "execution_count": 4,
   "id": "3e453400",
   "metadata": {},
   "outputs": [],
   "source": [
    "from axelrod.action import Action\n",
    "\n",
    "C, D = Action.C, Action.D"
   ]
  },
  {
   "cell_type": "markdown",
   "id": "9f58f4f9",
   "metadata": {},
   "source": [
    "Now the variables `C` and `D` correspond to the actions `C` and `D`."
   ]
  },
  {
   "cell_type": "markdown",
   "id": "85cf74ee",
   "metadata": {},
   "source": [
    "This is how we can define a memory-one player and their initial move."
   ]
  },
  {
   "cell_type": "code",
   "execution_count": 5,
   "id": "3edacac2",
   "metadata": {},
   "outputs": [
    {
     "data": {
      "text/plain": [
       "Generic Memory One Player: (1, 1, 1, 1), D"
      ]
     },
     "execution_count": 5,
     "metadata": {},
     "output_type": "execute_result"
    }
   ],
   "source": [
    "q = axl.MemoryOnePlayer((1, 1, 1, 1), initial=D)\n",
    "q"
   ]
  },
  {
   "cell_type": "markdown",
   "id": "c4e782f1",
   "metadata": {},
   "source": [
    "For the sequence we can use the class `axl.Cycler` which takes an input an `str` sequence. If the sequence is smaller than the number of turns the Cycler just keeps cycling over the same sequence."
   ]
  },
  {
   "cell_type": "code",
   "execution_count": 6,
   "id": "a1e15f51",
   "metadata": {},
   "outputs": [],
   "source": [
    "p = axl.Cycler(\"CCD\")"
   ]
  },
  {
   "cell_type": "code",
   "execution_count": 7,
   "id": "bd682885",
   "metadata": {},
   "outputs": [],
   "source": [
    "match = axl.Match(players=[p, q], turns=3)\n",
    "\n",
    "_ = match.play()"
   ]
  },
  {
   "cell_type": "code",
   "execution_count": 8,
   "id": "a420367a",
   "metadata": {},
   "outputs": [
    {
     "data": {
      "text/plain": [
       "[(C, D), (C, C), (D, C)]"
      ]
     },
     "execution_count": 8,
     "metadata": {},
     "output_type": "execute_result"
    }
   ],
   "source": [
    "match.result"
   ]
  },
  {
   "cell_type": "markdown",
   "id": "1457c7d9",
   "metadata": {},
   "source": [
    "We can have a match with errors as well:"
   ]
  },
  {
   "cell_type": "code",
   "execution_count": 9,
   "id": "89eeb13b",
   "metadata": {},
   "outputs": [],
   "source": [
    "match = axl.Match(players=[p, q], turns=3, noise=0.1, seed=10)\n",
    "\n",
    "_ = match.play()"
   ]
  },
  {
   "cell_type": "code",
   "execution_count": 10,
   "id": "20780681",
   "metadata": {},
   "outputs": [
    {
     "data": {
      "text/plain": [
       "[(C, C), (C, C), (D, C)]"
      ]
     },
     "execution_count": 10,
     "metadata": {},
     "output_type": "execute_result"
    }
   ],
   "source": [
    "match.result"
   ]
  },
  {
   "cell_type": "markdown",
   "id": "2d88d025",
   "metadata": {},
   "source": [
    "### Inferring strategies"
   ]
  },
  {
   "cell_type": "markdown",
   "id": "3bcff9c4",
   "metadata": {},
   "source": [
    "Let's assume we are trying to fit the 16 pure strategies."
   ]
  },
  {
   "cell_type": "markdown",
   "id": "12e9ac04",
   "metadata": {},
   "source": [
    "1. Initially we use `axelrod` for getting the co-player's actions."
   ]
  },
  {
   "cell_type": "code",
   "execution_count": 11,
   "id": "8c299ace",
   "metadata": {},
   "outputs": [],
   "source": [
    "p = axl.Cycler(\"CCDCDDDCDC\")"
   ]
  },
  {
   "cell_type": "code",
   "execution_count": 12,
   "id": "9d85f17d",
   "metadata": {},
   "outputs": [],
   "source": [
    "match = axl.Match(players=[p, q], turns=10)\n",
    "\n",
    "_ = match.play()"
   ]
  },
  {
   "cell_type": "code",
   "execution_count": 13,
   "id": "beacdd6f",
   "metadata": {},
   "outputs": [
    {
     "data": {
      "text/plain": [
       "[D, C, C, C, C, C, C, C, C, C]"
      ]
     },
     "execution_count": 13,
     "metadata": {},
     "output_type": "execute_result"
    }
   ],
   "source": [
    "coplayers_actions = [history[1] for history in match.result]\n",
    "coplayers_actions"
   ]
  },
  {
   "cell_type": "code",
   "execution_count": 14,
   "id": "5296fd7a",
   "metadata": {},
   "outputs": [],
   "source": [
    "num_possible_s = 16"
   ]
  },
  {
   "cell_type": "code",
   "execution_count": 39,
   "id": "4207447c",
   "metadata": {},
   "outputs": [],
   "source": [
    "last_turn_outcomes = [\"open\"] + list(itertools.product([C, D], repeat=2))"
   ]
  },
  {
   "cell_type": "code",
   "execution_count": 41,
   "id": "e6aebbe5",
   "metadata": {},
   "outputs": [],
   "source": [
    "pure_transitions = list(itertools.product([C, D], repeat=5))"
   ]
  },
  {
   "cell_type": "code",
   "execution_count": 42,
   "id": "231b7117",
   "metadata": {},
   "outputs": [],
   "source": [
    "pure_strategies = {f\"M{i}\": \n",
    "               {k:v for k, v in zip(last_turn_outcomes, transitions)} \n",
    "               for i, transitions in enumerate(pure_transitions)}"
   ]
  },
  {
   "cell_type": "code",
   "execution_count": 43,
   "id": "ef20ae29",
   "metadata": {},
   "outputs": [
    {
     "data": {
      "text/plain": [
       "{'M0': {'open': C, (C, C): C, (C, D): C, (D, C): C, (D, D): C},\n",
       " 'M1': {'open': C, (C, C): C, (C, D): C, (D, C): C, (D, D): D},\n",
       " 'M2': {'open': C, (C, C): C, (C, D): C, (D, C): D, (D, D): C},\n",
       " 'M3': {'open': C, (C, C): C, (C, D): C, (D, C): D, (D, D): D},\n",
       " 'M4': {'open': C, (C, C): C, (C, D): D, (D, C): C, (D, D): C},\n",
       " 'M5': {'open': C, (C, C): C, (C, D): D, (D, C): C, (D, D): D},\n",
       " 'M6': {'open': C, (C, C): C, (C, D): D, (D, C): D, (D, D): C},\n",
       " 'M7': {'open': C, (C, C): C, (C, D): D, (D, C): D, (D, D): D},\n",
       " 'M8': {'open': C, (C, C): D, (C, D): C, (D, C): C, (D, D): C},\n",
       " 'M9': {'open': C, (C, C): D, (C, D): C, (D, C): C, (D, D): D},\n",
       " 'M10': {'open': C, (C, C): D, (C, D): C, (D, C): D, (D, D): C},\n",
       " 'M11': {'open': C, (C, C): D, (C, D): C, (D, C): D, (D, D): D},\n",
       " 'M12': {'open': C, (C, C): D, (C, D): D, (D, C): C, (D, D): C},\n",
       " 'M13': {'open': C, (C, C): D, (C, D): D, (D, C): C, (D, D): D},\n",
       " 'M14': {'open': C, (C, C): D, (C, D): D, (D, C): D, (D, D): C},\n",
       " 'M15': {'open': C, (C, C): D, (C, D): D, (D, C): D, (D, D): D},\n",
       " 'M16': {'open': D, (C, C): C, (C, D): C, (D, C): C, (D, D): C},\n",
       " 'M17': {'open': D, (C, C): C, (C, D): C, (D, C): C, (D, D): D},\n",
       " 'M18': {'open': D, (C, C): C, (C, D): C, (D, C): D, (D, D): C},\n",
       " 'M19': {'open': D, (C, C): C, (C, D): C, (D, C): D, (D, D): D},\n",
       " 'M20': {'open': D, (C, C): C, (C, D): D, (D, C): C, (D, D): C},\n",
       " 'M21': {'open': D, (C, C): C, (C, D): D, (D, C): C, (D, D): D},\n",
       " 'M22': {'open': D, (C, C): C, (C, D): D, (D, C): D, (D, D): C},\n",
       " 'M23': {'open': D, (C, C): C, (C, D): D, (D, C): D, (D, D): D},\n",
       " 'M24': {'open': D, (C, C): D, (C, D): C, (D, C): C, (D, D): C},\n",
       " 'M25': {'open': D, (C, C): D, (C, D): C, (D, C): C, (D, D): D},\n",
       " 'M26': {'open': D, (C, C): D, (C, D): C, (D, C): D, (D, D): C},\n",
       " 'M27': {'open': D, (C, C): D, (C, D): C, (D, C): D, (D, D): D},\n",
       " 'M28': {'open': D, (C, C): D, (C, D): D, (D, C): C, (D, D): C},\n",
       " 'M29': {'open': D, (C, C): D, (C, D): D, (D, C): C, (D, D): D},\n",
       " 'M30': {'open': D, (C, C): D, (C, D): D, (D, C): D, (D, D): C},\n",
       " 'M31': {'open': D, (C, C): D, (C, D): D, (D, C): D, (D, D): D}}"
      ]
     },
     "execution_count": 43,
     "metadata": {},
     "output_type": "execute_result"
    }
   ],
   "source": [
    "pure_strategies"
   ]
  },
  {
   "cell_type": "markdown",
   "id": "0cf7e15e",
   "metadata": {},
   "source": [
    "2. We use the `MemoryOne` class we have defined in `bayesian` which gives us the probability of the action $i$ happening after the history $h_t$."
   ]
  },
  {
   "cell_type": "code",
   "execution_count": 47,
   "id": "8b78dbc0",
   "metadata": {},
   "outputs": [],
   "source": [
    "strategies_to_fit = [bayesian.MemoryOne(error=0.001, states_action_dict=value)\n",
    "                     for value in pure_strategies.values()]"
   ]
  },
  {
   "cell_type": "code",
   "execution_count": 53,
   "id": "8939ae87",
   "metadata": {},
   "outputs": [],
   "source": [
    "priors = [bayesian.init_prior_uniform(num_possible_s) for _ in range(len(strategies_to_fit))]\n",
    "\n",
    "\n",
    "# Opening Move\n",
    "\n",
    "likelihoods = [strategy.likelihood(turn_action,\n",
    "                                   \"open\") for strategy in strategies_to_fit]\n",
    "\n",
    "posteriors = [bayesian.posterior(prior, likelihood, \n",
    "                                 priors[:i] + priors[i + 1:],\n",
    "                        likelihoods[:i] + likelihoods[i + 1:]) for i, (prior, likelihood) \n",
    "              in enumerate(zip(priors, likelihoods))]\n",
    "\n",
    "priors = posteriors \n",
    "    \n",
    "# The rest\n",
    "\n",
    "for turn, turn_action in enumerate(coplayers_actions[1:]):\n",
    "\n",
    "    likelihoods = [strategy.likelihood(turn_action,\n",
    "                                       match.result[turn + 1]) for strategy in strategies_to_fit]\n",
    "\n",
    "    posteriors = [bayesian.posterior(prior, likelihood, \n",
    "                                     priors[:i] + priors[i + 1:],\n",
    "                            likelihoods[:i] + likelihoods[i + 1:]) for i, (prior, likelihood) \n",
    "                  in enumerate(zip(priors, likelihoods))]\n",
    "\n",
    "    priors = posteriors "
   ]
  },
  {
   "cell_type": "code",
   "execution_count": 54,
   "id": "ad72940b",
   "metadata": {},
   "outputs": [
    {
     "data": {
      "text/plain": [
       "array([0.25, 0.25, 0.  , 0.  , 0.25, 0.25, 0.  , 0.  , 0.  , 0.  , 0.  ,\n",
       "       0.  , 0.  , 0.  , 0.  , 0.  , 0.  , 0.  , 0.  , 0.  , 0.  , 0.  ,\n",
       "       0.  , 0.  , 0.  , 0.  , 0.  , 0.  , 0.  , 0.  , 0.  , 0.  ])"
      ]
     },
     "execution_count": 54,
     "metadata": {},
     "output_type": "execute_result"
    }
   ],
   "source": [
    "np.array(posteriors).round(3)"
   ]
  },
  {
   "cell_type": "code",
   "execution_count": null,
   "id": "28d2c124",
   "metadata": {},
   "outputs": [],
   "source": []
  }
 ],
 "metadata": {
  "kernelspec": {
   "display_name": "infering",
   "language": "python",
   "name": "infering"
  },
  "language_info": {
   "codemirror_mode": {
    "name": "ipython",
    "version": 3
   },
   "file_extension": ".py",
   "mimetype": "text/x-python",
   "name": "python",
   "nbconvert_exporter": "python",
   "pygments_lexer": "ipython3",
   "version": "3.9.16"
  }
 },
 "nbformat": 4,
 "nbformat_minor": 5
}
