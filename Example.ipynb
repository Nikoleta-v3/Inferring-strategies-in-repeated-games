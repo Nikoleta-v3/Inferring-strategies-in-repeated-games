{
 "cells": [
  {
   "cell_type": "markdown",
   "id": "9b226166",
   "metadata": {},
   "source": [
    "**Imports**"
   ]
  },
  {
   "cell_type": "code",
   "execution_count": 1,
   "id": "f2817e5f",
   "metadata": {},
   "outputs": [],
   "source": [
    "import axelrod as axl"
   ]
  },
  {
   "cell_type": "code",
   "execution_count": 2,
   "id": "206d8270",
   "metadata": {},
   "outputs": [],
   "source": [
    "import itertools\n",
    "\n",
    "import numpy as np"
   ]
  },
  {
   "cell_type": "code",
   "execution_count": 3,
   "id": "51ba0e52",
   "metadata": {},
   "outputs": [],
   "source": [
    "# importing the bayesian code like this for now\n",
    "\n",
    "from importlib.machinery import SourceFileLoader\n",
    "\n",
    "bayesian = SourceFileLoader(\"bayesian\", \"src/bayesian.py\").load_module()"
   ]
  },
  {
   "cell_type": "markdown",
   "id": "b99fd4a3",
   "metadata": {},
   "source": [
    "### A few details about `axelrod`"
   ]
  },
  {
   "cell_type": "markdown",
   "id": "4596867c",
   "metadata": {},
   "source": [
    "We can use `axelrod` to simulate the interaction of a given memory one strategy and of a sequence."
   ]
  },
  {
   "cell_type": "code",
   "execution_count": 4,
   "id": "af06b7fc",
   "metadata": {},
   "outputs": [],
   "source": [
    "from axelrod.action import Action\n",
    "\n",
    "C, D = Action.C, Action.D"
   ]
  },
  {
   "cell_type": "markdown",
   "id": "d8e1d7bc",
   "metadata": {},
   "source": [
    "Now the variables `C` and `D` correspond to the actions `C` and `D`."
   ]
  },
  {
   "cell_type": "markdown",
   "id": "ce6ed172",
   "metadata": {},
   "source": [
    "This is how we can define a memory-one player and their initial move."
   ]
  },
  {
   "cell_type": "code",
   "execution_count": 5,
   "id": "5f3352db",
   "metadata": {},
   "outputs": [
    {
     "data": {
      "text/plain": [
       "Generic Memory One Player: (1, 1, 1, 1), D"
      ]
     },
     "execution_count": 5,
     "metadata": {},
     "output_type": "execute_result"
    }
   ],
   "source": [
    "q = axl.MemoryOnePlayer((1, 1, 1, 1), initial=D)\n",
    "q"
   ]
  },
  {
   "cell_type": "markdown",
   "id": "75b976d8",
   "metadata": {},
   "source": [
    "For the sequence we can use the class `axl.Cycler` which takes an input an `str` sequence. If the sequence is smaller than the number of turns the Cycler just keeps cycling over the same sequence."
   ]
  },
  {
   "cell_type": "code",
   "execution_count": 6,
   "id": "38514b55",
   "metadata": {},
   "outputs": [],
   "source": [
    "p = axl.Cycler(\"CCD\")"
   ]
  },
  {
   "cell_type": "code",
   "execution_count": 7,
   "id": "1fdc992c",
   "metadata": {},
   "outputs": [],
   "source": [
    "match = axl.Match(players=[p, q], turns=3)\n",
    "\n",
    "_ = match.play()"
   ]
  },
  {
   "cell_type": "code",
   "execution_count": 8,
   "id": "012b0f26",
   "metadata": {},
   "outputs": [
    {
     "data": {
      "text/plain": [
       "[(C, D), (C, C), (D, C)]"
      ]
     },
     "execution_count": 8,
     "metadata": {},
     "output_type": "execute_result"
    }
   ],
   "source": [
    "match.result"
   ]
  },
  {
   "cell_type": "code",
   "execution_count": 10,
   "id": "eccd5994",
   "metadata": {},
   "outputs": [
    {
     "data": {
      "text/plain": [
       "[(0, 5), (3, 3), (5, 0)]"
      ]
     },
     "execution_count": 10,
     "metadata": {},
     "output_type": "execute_result"
    }
   ],
   "source": [
    "match.scores()"
   ]
  },
  {
   "cell_type": "code",
   "execution_count": 12,
   "id": "3eac7d1e",
   "metadata": {},
   "outputs": [
    {
     "data": {
      "text/plain": [
       "(8, 8)"
      ]
     },
     "execution_count": 12,
     "metadata": {},
     "output_type": "execute_result"
    }
   ],
   "source": [
    "match.final_score()"
   ]
  },
  {
   "cell_type": "code",
   "execution_count": 13,
   "id": "eef499a6",
   "metadata": {},
   "outputs": [
    {
     "data": {
      "text/plain": [
       "(2.6666666666666665, 2.6666666666666665)"
      ]
     },
     "execution_count": 13,
     "metadata": {},
     "output_type": "execute_result"
    }
   ],
   "source": [
    "match.final_score_per_turn()"
   ]
  },
  {
   "cell_type": "markdown",
   "id": "b48892fe",
   "metadata": {},
   "source": [
    "We can have a match with errors as well:"
   ]
  },
  {
   "cell_type": "code",
   "execution_count": 14,
   "id": "aedda5e7",
   "metadata": {},
   "outputs": [],
   "source": [
    "match = axl.Match(players=[p, q], turns=3, noise=0.1, seed=10)\n",
    "\n",
    "_ = match.play()"
   ]
  },
  {
   "cell_type": "code",
   "execution_count": 15,
   "id": "361ce91d",
   "metadata": {},
   "outputs": [
    {
     "data": {
      "text/plain": [
       "[(C, C), (C, C), (D, C)]"
      ]
     },
     "execution_count": 15,
     "metadata": {},
     "output_type": "execute_result"
    }
   ],
   "source": [
    "match.result"
   ]
  },
  {
   "cell_type": "markdown",
   "id": "5e74a321",
   "metadata": {},
   "source": [
    "### Inferring strategies"
   ]
  },
  {
   "cell_type": "markdown",
   "id": "07958498",
   "metadata": {},
   "source": [
    "Let's assume we are trying to fit the 16 pure strategies."
   ]
  },
  {
   "cell_type": "markdown",
   "id": "7a2e6637",
   "metadata": {},
   "source": [
    "1. Initially we use `axelrod` for getting the co-player's actions."
   ]
  },
  {
   "cell_type": "code",
   "execution_count": 49,
   "id": "5846c6ad",
   "metadata": {},
   "outputs": [],
   "source": [
    "p = axl.Cycler(\"CCDCDDDCDC\")"
   ]
  },
  {
   "cell_type": "code",
   "execution_count": 50,
   "id": "1cb5d41c",
   "metadata": {},
   "outputs": [],
   "source": [
    "match = axl.Match(players=[p, q], turns=10)\n",
    "\n",
    "_ = match.play()"
   ]
  },
  {
   "cell_type": "code",
   "execution_count": 51,
   "id": "252e2e28",
   "metadata": {},
   "outputs": [
    {
     "data": {
      "text/plain": [
       "[D, C, C, C, C, C, C, C, C, C]"
      ]
     },
     "execution_count": 51,
     "metadata": {},
     "output_type": "execute_result"
    }
   ],
   "source": [
    "coplayers_actions = [history[1] for history in match.result]\n",
    "\n",
    "coplayers_actions"
   ]
  },
  {
   "cell_type": "code",
   "execution_count": 52,
   "id": "dc15fcaf",
   "metadata": {},
   "outputs": [
    {
     "data": {
      "text/plain": [
       "[(C, D),\n",
       " (C, C),\n",
       " (D, C),\n",
       " (C, C),\n",
       " (D, C),\n",
       " (D, C),\n",
       " (D, C),\n",
       " (C, C),\n",
       " (D, C),\n",
       " (C, C)]"
      ]
     },
     "execution_count": 52,
     "metadata": {},
     "output_type": "execute_result"
    }
   ],
   "source": [
    "game_history = match.result\n",
    "\n",
    "game_history"
   ]
  },
  {
   "cell_type": "code",
   "execution_count": 53,
   "id": "cfa5fbde",
   "metadata": {},
   "outputs": [],
   "source": [
    "num_possible_s = 32"
   ]
  },
  {
   "cell_type": "code",
   "execution_count": 54,
   "id": "8f61a9a9",
   "metadata": {},
   "outputs": [],
   "source": [
    "last_turn_outcomes = [\"p0\"] + list(itertools.product([C, D], repeat=2))"
   ]
  },
  {
   "cell_type": "code",
   "execution_count": 55,
   "id": "f0599acf",
   "metadata": {},
   "outputs": [],
   "source": [
    "pure_transitions = list(itertools.product([C, D], repeat=5))"
   ]
  },
  {
   "cell_type": "code",
   "execution_count": 56,
   "id": "6af70ce9",
   "metadata": {},
   "outputs": [],
   "source": [
    "pure_strategies = {f\"M{i}\": \n",
    "               {k:v for k, v in zip(last_turn_outcomes, transitions)} \n",
    "               for i, transitions in enumerate(pure_transitions)}"
   ]
  },
  {
   "cell_type": "code",
   "execution_count": 57,
   "id": "bacff8d9",
   "metadata": {},
   "outputs": [
    {
     "data": {
      "text/plain": [
       "{'M0': {'p0': C, (C, C): C, (C, D): C, (D, C): C, (D, D): C},\n",
       " 'M1': {'p0': C, (C, C): C, (C, D): C, (D, C): C, (D, D): D},\n",
       " 'M2': {'p0': C, (C, C): C, (C, D): C, (D, C): D, (D, D): C},\n",
       " 'M3': {'p0': C, (C, C): C, (C, D): C, (D, C): D, (D, D): D},\n",
       " 'M4': {'p0': C, (C, C): C, (C, D): D, (D, C): C, (D, D): C},\n",
       " 'M5': {'p0': C, (C, C): C, (C, D): D, (D, C): C, (D, D): D},\n",
       " 'M6': {'p0': C, (C, C): C, (C, D): D, (D, C): D, (D, D): C},\n",
       " 'M7': {'p0': C, (C, C): C, (C, D): D, (D, C): D, (D, D): D},\n",
       " 'M8': {'p0': C, (C, C): D, (C, D): C, (D, C): C, (D, D): C},\n",
       " 'M9': {'p0': C, (C, C): D, (C, D): C, (D, C): C, (D, D): D},\n",
       " 'M10': {'p0': C, (C, C): D, (C, D): C, (D, C): D, (D, D): C},\n",
       " 'M11': {'p0': C, (C, C): D, (C, D): C, (D, C): D, (D, D): D},\n",
       " 'M12': {'p0': C, (C, C): D, (C, D): D, (D, C): C, (D, D): C},\n",
       " 'M13': {'p0': C, (C, C): D, (C, D): D, (D, C): C, (D, D): D},\n",
       " 'M14': {'p0': C, (C, C): D, (C, D): D, (D, C): D, (D, D): C},\n",
       " 'M15': {'p0': C, (C, C): D, (C, D): D, (D, C): D, (D, D): D},\n",
       " 'M16': {'p0': D, (C, C): C, (C, D): C, (D, C): C, (D, D): C},\n",
       " 'M17': {'p0': D, (C, C): C, (C, D): C, (D, C): C, (D, D): D},\n",
       " 'M18': {'p0': D, (C, C): C, (C, D): C, (D, C): D, (D, D): C},\n",
       " 'M19': {'p0': D, (C, C): C, (C, D): C, (D, C): D, (D, D): D},\n",
       " 'M20': {'p0': D, (C, C): C, (C, D): D, (D, C): C, (D, D): C},\n",
       " 'M21': {'p0': D, (C, C): C, (C, D): D, (D, C): C, (D, D): D},\n",
       " 'M22': {'p0': D, (C, C): C, (C, D): D, (D, C): D, (D, D): C},\n",
       " 'M23': {'p0': D, (C, C): C, (C, D): D, (D, C): D, (D, D): D},\n",
       " 'M24': {'p0': D, (C, C): D, (C, D): C, (D, C): C, (D, D): C},\n",
       " 'M25': {'p0': D, (C, C): D, (C, D): C, (D, C): C, (D, D): D},\n",
       " 'M26': {'p0': D, (C, C): D, (C, D): C, (D, C): D, (D, D): C},\n",
       " 'M27': {'p0': D, (C, C): D, (C, D): C, (D, C): D, (D, D): D},\n",
       " 'M28': {'p0': D, (C, C): D, (C, D): D, (D, C): C, (D, D): C},\n",
       " 'M29': {'p0': D, (C, C): D, (C, D): D, (D, C): C, (D, D): D},\n",
       " 'M30': {'p0': D, (C, C): D, (C, D): D, (D, C): D, (D, D): C},\n",
       " 'M31': {'p0': D, (C, C): D, (C, D): D, (D, C): D, (D, D): D}}"
      ]
     },
     "execution_count": 57,
     "metadata": {},
     "output_type": "execute_result"
    }
   ],
   "source": [
    "pure_strategies"
   ]
  },
  {
   "cell_type": "markdown",
   "id": "ed32351c",
   "metadata": {},
   "source": [
    "2. We use the `MemoryOne` class we have defined in `bayesian` which gives us the probability of the action $i$ happening after the history $h_t$."
   ]
  },
  {
   "cell_type": "code",
   "execution_count": 58,
   "id": "72b39117",
   "metadata": {},
   "outputs": [],
   "source": [
    "strategies_to_fit = [bayesian.MemoryOne(error=0.001, states_action_dict=value)\n",
    "                     for value in pure_strategies.values()]"
   ]
  },
  {
   "cell_type": "code",
   "execution_count": 67,
   "id": "eba5e281",
   "metadata": {},
   "outputs": [],
   "source": [
    "priors = [bayesian.init_prior_uniform(num_possible_s) for _ in range(num_possible_s)]\n",
    "\n",
    "\n",
    "# Opening Move\n",
    "\n",
    "opening_move = coplayers_actions[0]\n",
    "\n",
    "\n",
    "likelihoods = [strategy.likelihood(opening_move, \"p0\") for strategy in strategies_to_fit]\n",
    "\n",
    "posteriors = [bayesian.posterior(myprior,\n",
    "                                 mylikelihood, \n",
    "                                 priors,\n",
    "                                 likelihoods) for myprior, mylikelihood in zip(priors, likelihoods)]\n",
    "\n",
    "priors = posteriors \n",
    "    \n",
    "# The rest\n",
    "\n",
    "for turn, turn_action in enumerate(coplayers_actions[1:]):\n",
    "\n",
    "    likelihoods = [strategy.likelihood(turn_action,\n",
    "                                       game_history[turn]) for strategy in strategies_to_fit]\n",
    "\n",
    "    posteriors = [bayesian.posterior(myprior,\n",
    "                                     mylikelihood, \n",
    "                                     priors,\n",
    "                                     likelihoods) for myprior, mylikelihood in zip(priors, likelihoods)]\n",
    "\n",
    "    priors = posteriors"
   ]
  },
  {
   "cell_type": "code",
   "execution_count": 68,
   "id": "f6f1d94d",
   "metadata": {},
   "outputs": [
    {
     "data": {
      "text/plain": [
       "array([0.008, 0.008, 0.   , 0.   , 0.   , 0.   , 0.   , 0.   , 0.   ,\n",
       "       0.   , 0.   , 0.   , 0.   , 0.   , 0.   , 0.   , 0.326, 0.326,\n",
       "       0.   , 0.   , 0.007, 0.007, 0.   , 0.   , 0.   , 0.   , 0.   ,\n",
       "       0.   , 0.   , 0.   , 0.   , 0.   ])"
      ]
     },
     "execution_count": 68,
     "metadata": {},
     "output_type": "execute_result"
    }
   ],
   "source": [
    "np.array(posteriors).round(3)"
   ]
  },
  {
   "cell_type": "code",
   "execution_count": 69,
   "id": "de262633",
   "metadata": {},
   "outputs": [
    {
     "data": {
      "text/plain": [
       "16"
      ]
     },
     "execution_count": 69,
     "metadata": {},
     "output_type": "execute_result"
    }
   ],
   "source": [
    "np.argmax(np.array(posteriors).round(3))"
   ]
  },
  {
   "cell_type": "code",
   "execution_count": null,
   "id": "bc9887ac",
   "metadata": {},
   "outputs": [],
   "source": []
  }
 ],
 "metadata": {
  "kernelspec": {
   "display_name": "infering",
   "language": "python",
   "name": "infering"
  },
  "language_info": {
   "codemirror_mode": {
    "name": "ipython",
    "version": 3
   },
   "file_extension": ".py",
   "mimetype": "text/x-python",
   "name": "python",
   "nbconvert_exporter": "python",
   "pygments_lexer": "ipython3",
   "version": "3.9.16"
  }
 },
 "nbformat": 4,
 "nbformat_minor": 5
}
