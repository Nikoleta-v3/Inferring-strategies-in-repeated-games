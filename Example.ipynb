{
 "cells": [
  {
   "cell_type": "markdown",
   "id": "8a6da15e",
   "metadata": {},
   "source": [
    "**Imports**"
   ]
  },
  {
   "cell_type": "code",
   "execution_count": 1,
   "id": "2ba493b9",
   "metadata": {},
   "outputs": [],
   "source": [
    "import axelrod as axl"
   ]
  },
  {
   "cell_type": "code",
   "execution_count": 27,
   "id": "99ea55c2",
   "metadata": {},
   "outputs": [],
   "source": [
    "import itertools\n",
    "\n",
    "import numpy as np"
   ]
  },
  {
   "cell_type": "code",
   "execution_count": 3,
   "id": "c540058a",
   "metadata": {},
   "outputs": [],
   "source": [
    "# importing the bayesian code like this for now\n",
    "\n",
    "from importlib.machinery import SourceFileLoader\n",
    "\n",
    "bayesian = SourceFileLoader(\"bayesian\", \"src/bayesian.py\").load_module()"
   ]
  },
  {
   "cell_type": "markdown",
   "id": "2317b443",
   "metadata": {},
   "source": [
    "### A few details about `axelrod`"
   ]
  },
  {
   "cell_type": "markdown",
   "id": "40786672",
   "metadata": {},
   "source": [
    "We can use `axelrod` to simulate the interaction of a given memory one strategy and of a sequence."
   ]
  },
  {
   "cell_type": "code",
   "execution_count": 4,
   "id": "11d5b320",
   "metadata": {},
   "outputs": [],
   "source": [
    "from axelrod.action import Action\n",
    "\n",
    "C, D = Action.C, Action.D"
   ]
  },
  {
   "cell_type": "markdown",
   "id": "7d6ba46f",
   "metadata": {},
   "source": [
    "Now the variables `C` and `D` correspond to the actions `C` and `D`."
   ]
  },
  {
   "cell_type": "markdown",
   "id": "175e7420",
   "metadata": {},
   "source": [
    "This is how we can define a memory-one player and their initial move."
   ]
  },
  {
   "cell_type": "code",
   "execution_count": 5,
   "id": "b8e9805d",
   "metadata": {},
   "outputs": [
    {
     "data": {
      "text/plain": [
       "Generic Memory One Player: (1, 1, 1, 1), D"
      ]
     },
     "execution_count": 5,
     "metadata": {},
     "output_type": "execute_result"
    }
   ],
   "source": [
    "q = axl.MemoryOnePlayer((1, 1, 1, 1), initial=D)\n",
    "q"
   ]
  },
  {
   "cell_type": "markdown",
   "id": "fe4b0cf5",
   "metadata": {},
   "source": [
    "For the sequence we can use the class `axl.Cycler` which takes an input an `str` sequence. If the sequence is smaller than the number of turns the Cycler just keeps cycling over the same sequence."
   ]
  },
  {
   "cell_type": "code",
   "execution_count": 6,
   "id": "94966f78",
   "metadata": {},
   "outputs": [],
   "source": [
    "p = axl.Cycler(\"CCD\")"
   ]
  },
  {
   "cell_type": "code",
   "execution_count": 7,
   "id": "38a5770c",
   "metadata": {},
   "outputs": [],
   "source": [
    "match = axl.Match(players=[p, q], turns=3)\n",
    "\n",
    "_ = match.play()"
   ]
  },
  {
   "cell_type": "code",
   "execution_count": 8,
   "id": "94891506",
   "metadata": {},
   "outputs": [
    {
     "data": {
      "text/plain": [
       "[(C, D), (C, C), (D, C)]"
      ]
     },
     "execution_count": 8,
     "metadata": {},
     "output_type": "execute_result"
    }
   ],
   "source": [
    "match.result"
   ]
  },
  {
   "cell_type": "markdown",
   "id": "12c7f68b",
   "metadata": {},
   "source": [
    "We can have a match with errors as well:"
   ]
  },
  {
   "cell_type": "code",
   "execution_count": 9,
   "id": "aafd173f",
   "metadata": {},
   "outputs": [],
   "source": [
    "match = axl.Match(players=[p, q], turns=3, noise=0.1, seed=10)\n",
    "\n",
    "_ = match.play()"
   ]
  },
  {
   "cell_type": "code",
   "execution_count": 10,
   "id": "dc30d14d",
   "metadata": {},
   "outputs": [
    {
     "data": {
      "text/plain": [
       "[(C, C), (C, C), (D, C)]"
      ]
     },
     "execution_count": 10,
     "metadata": {},
     "output_type": "execute_result"
    }
   ],
   "source": [
    "match.result"
   ]
  },
  {
   "cell_type": "markdown",
   "id": "aa5dcb79",
   "metadata": {},
   "source": [
    "### Inferring strategies"
   ]
  },
  {
   "cell_type": "markdown",
   "id": "9c8ea3d1",
   "metadata": {},
   "source": [
    "Let's assume we are trying to fit the 16 pure strategies."
   ]
  },
  {
   "cell_type": "markdown",
   "id": "ea848c61",
   "metadata": {},
   "source": [
    "1. Initially we use `axelrod` for getting the co-player's actions."
   ]
  },
  {
   "cell_type": "code",
   "execution_count": 11,
   "id": "a50aafbe",
   "metadata": {},
   "outputs": [],
   "source": [
    "p = axl.Cycler(\"CCDCDDDCDC\")"
   ]
  },
  {
   "cell_type": "code",
   "execution_count": 12,
   "id": "55ae4a33",
   "metadata": {},
   "outputs": [],
   "source": [
    "match = axl.Match(players=[p, q], turns=10)\n",
    "\n",
    "_ = match.play()"
   ]
  },
  {
   "cell_type": "code",
   "execution_count": 13,
   "id": "9eb00f5b",
   "metadata": {},
   "outputs": [
    {
     "data": {
      "text/plain": [
       "[D, C, C, C, C, C, C, C, C, C]"
      ]
     },
     "execution_count": 13,
     "metadata": {},
     "output_type": "execute_result"
    }
   ],
   "source": [
    "coplayers_actions = [history[1] for history in match.result]\n",
    "coplayers_actions"
   ]
  },
  {
   "cell_type": "code",
   "execution_count": 14,
   "id": "a4c1ad2b",
   "metadata": {},
   "outputs": [],
   "source": [
    "num_possible_s = 16"
   ]
  },
  {
   "cell_type": "code",
   "execution_count": 32,
   "id": "aab9f572",
   "metadata": {},
   "outputs": [],
   "source": [
    "last_turn_outcomes = list(itertools.product([C, D], repeat=2))"
   ]
  },
  {
   "cell_type": "code",
   "execution_count": 33,
   "id": "e9a16236",
   "metadata": {},
   "outputs": [],
   "source": [
    "pure_transitions = list(itertools.product([C, D], repeat=4))"
   ]
  },
  {
   "cell_type": "code",
   "execution_count": 34,
   "id": "eb5a3f83",
   "metadata": {},
   "outputs": [],
   "source": [
    "pure_strategies = {f\"M{i}\": \n",
    "               {k:v for k, v in zip(last_turn_outcomes, transitions)} \n",
    "               for i, transitions in enumerate(pure_transitions)}"
   ]
  },
  {
   "cell_type": "code",
   "execution_count": 35,
   "id": "c9f00b73",
   "metadata": {},
   "outputs": [
    {
     "data": {
      "text/plain": [
       "{'M0': {(C, C): C, (C, D): C, (D, C): C, (D, D): C},\n",
       " 'M1': {(C, C): C, (C, D): C, (D, C): C, (D, D): D},\n",
       " 'M2': {(C, C): C, (C, D): C, (D, C): D, (D, D): C},\n",
       " 'M3': {(C, C): C, (C, D): C, (D, C): D, (D, D): D},\n",
       " 'M4': {(C, C): C, (C, D): D, (D, C): C, (D, D): C},\n",
       " 'M5': {(C, C): C, (C, D): D, (D, C): C, (D, D): D},\n",
       " 'M6': {(C, C): C, (C, D): D, (D, C): D, (D, D): C},\n",
       " 'M7': {(C, C): C, (C, D): D, (D, C): D, (D, D): D},\n",
       " 'M8': {(C, C): D, (C, D): C, (D, C): C, (D, D): C},\n",
       " 'M9': {(C, C): D, (C, D): C, (D, C): C, (D, D): D},\n",
       " 'M10': {(C, C): D, (C, D): C, (D, C): D, (D, D): C},\n",
       " 'M11': {(C, C): D, (C, D): C, (D, C): D, (D, D): D},\n",
       " 'M12': {(C, C): D, (C, D): D, (D, C): C, (D, D): C},\n",
       " 'M13': {(C, C): D, (C, D): D, (D, C): C, (D, D): D},\n",
       " 'M14': {(C, C): D, (C, D): D, (D, C): D, (D, D): C},\n",
       " 'M15': {(C, C): D, (C, D): D, (D, C): D, (D, D): D}}"
      ]
     },
     "execution_count": 35,
     "metadata": {},
     "output_type": "execute_result"
    }
   ],
   "source": [
    "pure_strategies"
   ]
  },
  {
   "cell_type": "markdown",
   "id": "201e3aa9",
   "metadata": {},
   "source": [
    "2. We use the `MemoryOne` class we have defined in `bayesian` which gives us the probability of the action $i$ happening after the history $h_t$."
   ]
  },
  {
   "cell_type": "code",
   "execution_count": 36,
   "id": "00f7029a",
   "metadata": {},
   "outputs": [],
   "source": [
    "strategies_to_fit = [bayesian.MemoryOne(error=0.001, states_action_dict=value)\n",
    "                     for value in pure_strategies.values()]"
   ]
  },
  {
   "cell_type": "code",
   "execution_count": 37,
   "id": "f1aea369",
   "metadata": {},
   "outputs": [],
   "source": [
    "priors = [bayesian.init_prior_uniform(num_possible_s) for _ in range(16)]\n",
    "\n",
    "for turn, turn_action in enumerate(coplayers_actions[1:]):\n",
    "\n",
    "    likelihoods = [strategy.likelihood(turn_action,\n",
    "                                       match.result[turn + 1]) for strategy in strategies_to_fit]\n",
    "\n",
    "    posteriors = [bayesian.posterior(prior, likelihood, \n",
    "                                     priors[:i] + priors[i + 1:],\n",
    "                            likelihoods[:i] + likelihoods[i + 1:]) for i, (prior, likelihood) \n",
    "                  in enumerate(zip(priors, likelihoods))]\n",
    "\n",
    "    priors = posteriors "
   ]
  },
  {
   "cell_type": "code",
   "execution_count": 38,
   "id": "8ce1a6d2",
   "metadata": {},
   "outputs": [
    {
     "data": {
      "text/plain": [
       "array([0.25, 0.25, 0.  , 0.  , 0.25, 0.25, 0.  , 0.  , 0.  , 0.  , 0.  ,\n",
       "       0.  , 0.  , 0.  , 0.  , 0.  ])"
      ]
     },
     "execution_count": 38,
     "metadata": {},
     "output_type": "execute_result"
    }
   ],
   "source": [
    "np.array(posteriors).round(3)"
   ]
  },
  {
   "cell_type": "code",
   "execution_count": null,
   "id": "a8c220a3",
   "metadata": {},
   "outputs": [],
   "source": []
  }
 ],
 "metadata": {
  "kernelspec": {
   "display_name": "infering",
   "language": "python",
   "name": "infering"
  },
  "language_info": {
   "codemirror_mode": {
    "name": "ipython",
    "version": 3
   },
   "file_extension": ".py",
   "mimetype": "text/x-python",
   "name": "python",
   "nbconvert_exporter": "python",
   "pygments_lexer": "ipython3",
   "version": "3.9.16"
  }
 },
 "nbformat": 4,
 "nbformat_minor": 5
}
