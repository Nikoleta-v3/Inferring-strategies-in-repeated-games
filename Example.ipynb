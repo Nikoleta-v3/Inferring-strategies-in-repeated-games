{
 "cells": [
  {
   "cell_type": "markdown",
   "id": "f9416b91",
   "metadata": {},
   "source": [
    "**Imports**"
   ]
  },
  {
   "cell_type": "code",
   "execution_count": 1,
   "id": "822e483f",
   "metadata": {},
   "outputs": [],
   "source": [
    "import axelrod as axl"
   ]
  },
  {
   "cell_type": "code",
   "execution_count": 27,
   "id": "bd51f521",
   "metadata": {},
   "outputs": [],
   "source": [
    "import itertools\n",
    "\n",
    "import numpy as np"
   ]
  },
  {
   "cell_type": "code",
   "execution_count": 3,
   "id": "ff6e63cd",
   "metadata": {},
   "outputs": [],
   "source": [
    "# importing the bayesian code like this for now\n",
    "\n",
    "from importlib.machinery import SourceFileLoader\n",
    "\n",
    "bayesian = SourceFileLoader(\"bayesian\", \"src/bayesian.py\").load_module()"
   ]
  },
  {
   "cell_type": "markdown",
   "id": "186c4d74",
   "metadata": {},
   "source": [
    "### A few details about `axelrod`"
   ]
  },
  {
   "cell_type": "markdown",
   "id": "2a773482",
   "metadata": {},
   "source": [
    "We can use `axelrod` to simulate the interaction of a given memory one strategy and of a sequence."
   ]
  },
  {
   "cell_type": "code",
   "execution_count": 4,
   "id": "4e2a2509",
   "metadata": {},
   "outputs": [],
   "source": [
    "from axelrod.action import Action\n",
    "\n",
    "C, D = Action.C, Action.D"
   ]
  },
  {
   "cell_type": "markdown",
   "id": "7971cbe8",
   "metadata": {},
   "source": [
    "Now the variables `C` and `D` correspond to the actions `C` and `D`."
   ]
  },
  {
   "cell_type": "markdown",
   "id": "dfab2be4",
   "metadata": {},
   "source": [
    "This is how we can define a memory-one player and their initial move."
   ]
  },
  {
   "cell_type": "code",
   "execution_count": 5,
   "id": "2d94820f",
   "metadata": {},
   "outputs": [
    {
     "data": {
      "text/plain": [
       "Generic Memory One Player: (1, 1, 1, 1), D"
      ]
     },
     "execution_count": 5,
     "metadata": {},
     "output_type": "execute_result"
    }
   ],
   "source": [
    "q = axl.MemoryOnePlayer((1, 1, 1, 1), initial=D)\n",
    "q"
   ]
  },
  {
   "cell_type": "markdown",
   "id": "11249d4a",
   "metadata": {},
   "source": [
    "For the sequence we can use the class `axl.Cycler` which takes an input an `str` sequence. If the sequence is smaller than the number of turns the Cycler just keeps cycling over the same sequence."
   ]
  },
  {
   "cell_type": "code",
   "execution_count": 6,
   "id": "88961e0d",
   "metadata": {},
   "outputs": [],
   "source": [
    "p = axl.Cycler(\"CCD\")"
   ]
  },
  {
   "cell_type": "code",
   "execution_count": 7,
   "id": "877e0bca",
   "metadata": {},
   "outputs": [],
   "source": [
    "match = axl.Match(players=[p, q], turns=3)\n",
    "\n",
    "_ = match.play()"
   ]
  },
  {
   "cell_type": "code",
   "execution_count": 8,
   "id": "0c9bf524",
   "metadata": {},
   "outputs": [
    {
     "data": {
      "text/plain": [
       "[(C, D), (C, C), (D, C)]"
      ]
     },
     "execution_count": 8,
     "metadata": {},
     "output_type": "execute_result"
    }
   ],
   "source": [
    "match.result"
   ]
  },
  {
   "cell_type": "markdown",
   "id": "eb206c15",
   "metadata": {},
   "source": [
    "We can have a match with errors as well:"
   ]
  },
  {
   "cell_type": "code",
   "execution_count": 9,
   "id": "8e11393c",
   "metadata": {},
   "outputs": [],
   "source": [
    "match = axl.Match(players=[p, q], turns=3, noise=0.1, seed=10)\n",
    "\n",
    "_ = match.play()"
   ]
  },
  {
   "cell_type": "code",
   "execution_count": 10,
   "id": "632b26d2",
   "metadata": {},
   "outputs": [
    {
     "data": {
      "text/plain": [
       "[(C, C), (C, C), (D, C)]"
      ]
     },
     "execution_count": 10,
     "metadata": {},
     "output_type": "execute_result"
    }
   ],
   "source": [
    "match.result"
   ]
  },
  {
   "cell_type": "markdown",
   "id": "ec03844d",
   "metadata": {},
   "source": [
    "### Inferring strategies"
   ]
  },
  {
   "cell_type": "markdown",
   "id": "3e687ef8",
   "metadata": {},
   "source": [
    "Let's assume we are trying to fit the 16 pure strategies."
   ]
  },
  {
   "cell_type": "markdown",
   "id": "1af335d6",
   "metadata": {},
   "source": [
    "1. Initially we use `axelrod` for getting the co-player's actions."
   ]
  },
  {
   "cell_type": "code",
   "execution_count": 11,
   "id": "0dbba0b0",
   "metadata": {},
   "outputs": [],
   "source": [
    "p = axl.Cycler(\"CCDCDDDCDC\")"
   ]
  },
  {
   "cell_type": "code",
   "execution_count": 12,
   "id": "150b5fff",
   "metadata": {},
   "outputs": [],
   "source": [
    "match = axl.Match(players=[p, q], turns=10)\n",
    "\n",
    "_ = match.play()"
   ]
  },
  {
   "cell_type": "code",
   "execution_count": 13,
   "id": "6167ee81",
   "metadata": {},
   "outputs": [
    {
     "data": {
      "text/plain": [
       "[D, C, C, C, C, C, C, C, C, C]"
      ]
     },
     "execution_count": 13,
     "metadata": {},
     "output_type": "execute_result"
    }
   ],
   "source": [
    "coplayers_actions = [history[1] for history in match.result]\n",
    "coplayers_actions"
   ]
  },
  {
   "cell_type": "code",
   "execution_count": 14,
   "id": "2b1b944c",
   "metadata": {},
   "outputs": [],
   "source": [
    "num_possible_s = 16"
   ]
  },
  {
   "cell_type": "code",
   "execution_count": 39,
   "id": "a61b54ba",
   "metadata": {},
   "outputs": [],
   "source": [
    "last_turn_outcomes = [\"open\"] + list(itertools.product([C, D], repeat=2))"
   ]
  },
  {
   "cell_type": "code",
   "execution_count": 41,
   "id": "88c1d7ef",
   "metadata": {},
   "outputs": [],
   "source": [
    "pure_transitions = list(itertools.product([C, D], repeat=5))"
   ]
  },
  {
   "cell_type": "code",
   "execution_count": 42,
   "id": "4f04ff09",
   "metadata": {},
   "outputs": [],
   "source": [
    "pure_strategies = {f\"M{i}\": \n",
    "               {k:v for k, v in zip(last_turn_outcomes, transitions)} \n",
    "               for i, transitions in enumerate(pure_transitions)}"
   ]
  },
  {
   "cell_type": "code",
   "execution_count": 43,
   "id": "cfecd96e",
   "metadata": {},
   "outputs": [
    {
     "data": {
      "text/plain": [
       "{'M0': {'open': C, (C, C): C, (C, D): C, (D, C): C, (D, D): C},\n",
       " 'M1': {'open': C, (C, C): C, (C, D): C, (D, C): C, (D, D): D},\n",
       " 'M2': {'open': C, (C, C): C, (C, D): C, (D, C): D, (D, D): C},\n",
       " 'M3': {'open': C, (C, C): C, (C, D): C, (D, C): D, (D, D): D},\n",
       " 'M4': {'open': C, (C, C): C, (C, D): D, (D, C): C, (D, D): C},\n",
       " 'M5': {'open': C, (C, C): C, (C, D): D, (D, C): C, (D, D): D},\n",
       " 'M6': {'open': C, (C, C): C, (C, D): D, (D, C): D, (D, D): C},\n",
       " 'M7': {'open': C, (C, C): C, (C, D): D, (D, C): D, (D, D): D},\n",
       " 'M8': {'open': C, (C, C): D, (C, D): C, (D, C): C, (D, D): C},\n",
       " 'M9': {'open': C, (C, C): D, (C, D): C, (D, C): C, (D, D): D},\n",
       " 'M10': {'open': C, (C, C): D, (C, D): C, (D, C): D, (D, D): C},\n",
       " 'M11': {'open': C, (C, C): D, (C, D): C, (D, C): D, (D, D): D},\n",
       " 'M12': {'open': C, (C, C): D, (C, D): D, (D, C): C, (D, D): C},\n",
       " 'M13': {'open': C, (C, C): D, (C, D): D, (D, C): C, (D, D): D},\n",
       " 'M14': {'open': C, (C, C): D, (C, D): D, (D, C): D, (D, D): C},\n",
       " 'M15': {'open': C, (C, C): D, (C, D): D, (D, C): D, (D, D): D},\n",
       " 'M16': {'open': D, (C, C): C, (C, D): C, (D, C): C, (D, D): C},\n",
       " 'M17': {'open': D, (C, C): C, (C, D): C, (D, C): C, (D, D): D},\n",
       " 'M18': {'open': D, (C, C): C, (C, D): C, (D, C): D, (D, D): C},\n",
       " 'M19': {'open': D, (C, C): C, (C, D): C, (D, C): D, (D, D): D},\n",
       " 'M20': {'open': D, (C, C): C, (C, D): D, (D, C): C, (D, D): C},\n",
       " 'M21': {'open': D, (C, C): C, (C, D): D, (D, C): C, (D, D): D},\n",
       " 'M22': {'open': D, (C, C): C, (C, D): D, (D, C): D, (D, D): C},\n",
       " 'M23': {'open': D, (C, C): C, (C, D): D, (D, C): D, (D, D): D},\n",
       " 'M24': {'open': D, (C, C): D, (C, D): C, (D, C): C, (D, D): C},\n",
       " 'M25': {'open': D, (C, C): D, (C, D): C, (D, C): C, (D, D): D},\n",
       " 'M26': {'open': D, (C, C): D, (C, D): C, (D, C): D, (D, D): C},\n",
       " 'M27': {'open': D, (C, C): D, (C, D): C, (D, C): D, (D, D): D},\n",
       " 'M28': {'open': D, (C, C): D, (C, D): D, (D, C): C, (D, D): C},\n",
       " 'M29': {'open': D, (C, C): D, (C, D): D, (D, C): C, (D, D): D},\n",
       " 'M30': {'open': D, (C, C): D, (C, D): D, (D, C): D, (D, D): C},\n",
       " 'M31': {'open': D, (C, C): D, (C, D): D, (D, C): D, (D, D): D}}"
      ]
     },
     "execution_count": 43,
     "metadata": {},
     "output_type": "execute_result"
    }
   ],
   "source": [
    "pure_strategies"
   ]
  },
  {
   "cell_type": "markdown",
   "id": "bc2ed530",
   "metadata": {},
   "source": [
    "2. We use the `MemoryOne` class we have defined in `bayesian` which gives us the probability of the action $i$ happening after the history $h_t$."
   ]
  },
  {
   "cell_type": "code",
   "execution_count": 47,
   "id": "bee3376f",
   "metadata": {},
   "outputs": [],
   "source": [
    "strategies_to_fit = [bayesian.MemoryOne(error=0.001, states_action_dict=value)\n",
    "                     for value in pure_strategies.values()]"
   ]
  },
  {
   "cell_type": "code",
   "execution_count": 48,
   "id": "dc073130",
   "metadata": {},
   "outputs": [],
   "source": [
    "priors = [bayesian.init_prior_uniform(num_possible_s) for _ in range(16)]\n",
    "\n",
    "\n",
    "# Opening Move\n",
    "\n",
    "likelihoods = [strategy.likelihood(turn_action,\n",
    "                                   \"open\") for strategy in strategies_to_fit]\n",
    "\n",
    "posteriors = [bayesian.posterior(prior, likelihood, \n",
    "                                 priors[:i] + priors[i + 1:],\n",
    "                        likelihoods[:i] + likelihoods[i + 1:]) for i, (prior, likelihood) \n",
    "              in enumerate(zip(priors, likelihoods))]\n",
    "\n",
    "priors = posteriors \n",
    "    \n",
    "# The rest\n",
    "\n",
    "for turn, turn_action in enumerate(coplayers_actions[1:]):\n",
    "\n",
    "    likelihoods = [strategy.likelihood(turn_action,\n",
    "                                       match.result[turn + 1]) for strategy in strategies_to_fit]\n",
    "\n",
    "    posteriors = [bayesian.posterior(prior, likelihood, \n",
    "                                     priors[:i] + priors[i + 1:],\n",
    "                            likelihoods[:i] + likelihoods[i + 1:]) for i, (prior, likelihood) \n",
    "                  in enumerate(zip(priors, likelihoods))]\n",
    "\n",
    "    priors = posteriors "
   ]
  },
  {
   "cell_type": "code",
   "execution_count": 52,
   "id": "ac337d3c",
   "metadata": {},
   "outputs": [
    {
     "data": {
      "text/plain": [
       "16"
      ]
     },
     "execution_count": 52,
     "metadata": {},
     "output_type": "execute_result"
    }
   ],
   "source": [
    "np.array(posteriors).round(3)"
   ]
  },
  {
   "cell_type": "code",
   "execution_count": null,
   "id": "c0497023",
   "metadata": {},
   "outputs": [],
   "source": []
  }
 ],
 "metadata": {
  "kernelspec": {
   "display_name": "infering",
   "language": "python",
   "name": "infering"
  },
  "language_info": {
   "codemirror_mode": {
    "name": "ipython",
    "version": 3
   },
   "file_extension": ".py",
   "mimetype": "text/x-python",
   "name": "python",
   "nbconvert_exporter": "python",
   "pygments_lexer": "ipython3",
   "version": "3.9.16"
  }
 },
 "nbformat": 4,
 "nbformat_minor": 5
}
