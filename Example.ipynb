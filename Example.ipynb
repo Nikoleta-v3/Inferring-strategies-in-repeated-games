{
 "cells": [
  {
   "cell_type": "markdown",
   "id": "aaf76453",
   "metadata": {},
   "source": [
    "**Imports**"
   ]
  },
  {
   "cell_type": "code",
   "execution_count": 7,
   "id": "17a59778",
   "metadata": {},
   "outputs": [],
   "source": [
    "import axelrod as axl"
   ]
  },
  {
   "cell_type": "code",
   "execution_count": 8,
   "id": "32dafe19",
   "metadata": {},
   "outputs": [],
   "source": [
    "import itertools\n",
    "\n",
    "import numpy as np"
   ]
  },
  {
   "cell_type": "code",
   "execution_count": 9,
   "id": "d4c062a8",
   "metadata": {},
   "outputs": [],
   "source": [
    "# importing the bayesian code like this for now\n",
    "\n",
    "from importlib.machinery import SourceFileLoader\n",
    "\n",
    "bayesian = SourceFileLoader(\"bayesian\", \"src/bayesian.py\").load_module()"
   ]
  },
  {
   "cell_type": "markdown",
   "id": "163af00b",
   "metadata": {},
   "source": [
    "### A few details about `axelrod`"
   ]
  },
  {
   "cell_type": "markdown",
   "id": "7020566c",
   "metadata": {},
   "source": [
    "We can use `axelrod` to simulate the interaction of a given memory one strategy and of a sequence."
   ]
  },
  {
   "cell_type": "code",
   "execution_count": 10,
   "id": "d31fa5f8",
   "metadata": {},
   "outputs": [],
   "source": [
    "from axelrod.action import Action\n",
    "\n",
    "C, D = Action.C, Action.D"
   ]
  },
  {
   "cell_type": "markdown",
   "id": "8ebe6eb1",
   "metadata": {},
   "source": [
    "Now the variables `C` and `D` correspond to the actions `C` and `D`."
   ]
  },
  {
   "cell_type": "markdown",
   "id": "9b3cf57b",
   "metadata": {},
   "source": [
    "This is how we can define a memory-one player and their initial move."
   ]
  },
  {
   "cell_type": "code",
   "execution_count": 11,
   "id": "10a24138",
   "metadata": {},
   "outputs": [
    {
     "data": {
      "text/plain": [
       "Generic Memory One Player: (1, 1, 1, 1), 1"
      ]
     },
     "execution_count": 11,
     "metadata": {},
     "output_type": "execute_result"
    }
   ],
   "source": [
    "q = axl.MemoryOnePlayer((1, 1, 1, 1), initial=1)\n",
    "q"
   ]
  },
  {
   "cell_type": "markdown",
   "id": "ed965924",
   "metadata": {},
   "source": [
    "For the sequence we can use the class `axl.Cycler` which takes an input an `str` sequence. If the sequence is smaller than the number of turns the Cycler just keeps cycling over the same sequence."
   ]
  },
  {
   "cell_type": "code",
   "execution_count": 12,
   "id": "99ba0a80",
   "metadata": {},
   "outputs": [],
   "source": [
    "p = axl.Cycler(\"CCD\")"
   ]
  },
  {
   "cell_type": "code",
   "execution_count": 15,
   "id": "4bdd126d",
   "metadata": {},
   "outputs": [],
   "source": [
    "# match = axl.Match(players=[p, q], turns=3)\n",
    "\n",
    "# _ = match.play()"
   ]
  },
  {
   "cell_type": "code",
   "execution_count": 14,
   "id": "8fd7a6bd",
   "metadata": {},
   "outputs": [
    {
     "data": {
      "text/plain": [
       "[]"
      ]
     },
     "execution_count": 14,
     "metadata": {},
     "output_type": "execute_result"
    }
   ],
   "source": [
    "match.result"
   ]
  },
  {
   "cell_type": "code",
   "execution_count": 16,
   "id": "d32ede8e",
   "metadata": {},
   "outputs": [
    {
     "data": {
      "text/plain": [
       "C"
      ]
     },
     "execution_count": 16,
     "metadata": {},
     "output_type": "execute_result"
    }
   ],
   "source": []
  },
  {
   "cell_type": "code",
   "execution_count": 10,
   "id": "94e9a62e",
   "metadata": {},
   "outputs": [
    {
     "data": {
      "text/plain": [
       "[(0, 5), (3, 3), (5, 0)]"
      ]
     },
     "execution_count": 10,
     "metadata": {},
     "output_type": "execute_result"
    }
   ],
   "source": [
    "match.scores()"
   ]
  },
  {
   "cell_type": "code",
   "execution_count": 12,
   "id": "1de8797a",
   "metadata": {},
   "outputs": [
    {
     "data": {
      "text/plain": [
       "(8, 8)"
      ]
     },
     "execution_count": 12,
     "metadata": {},
     "output_type": "execute_result"
    }
   ],
   "source": [
    "match.final_score()"
   ]
  },
  {
   "cell_type": "code",
   "execution_count": 13,
   "id": "f43c0853",
   "metadata": {},
   "outputs": [
    {
     "data": {
      "text/plain": [
       "(2.6666666666666665, 2.6666666666666665)"
      ]
     },
     "execution_count": 13,
     "metadata": {},
     "output_type": "execute_result"
    }
   ],
   "source": [
    "match.final_score_per_turn()"
   ]
  },
  {
   "cell_type": "markdown",
   "id": "847eca3e",
   "metadata": {},
   "source": [
    "We can have a match with errors as well:"
   ]
  },
  {
   "cell_type": "code",
   "execution_count": 14,
   "id": "c6aeb04a",
   "metadata": {},
   "outputs": [],
   "source": [
    "match = axl.Match(players=[p, q], turns=3, noise=0.1, seed=10)\n",
    "\n",
    "_ = match.play()"
   ]
  },
  {
   "cell_type": "code",
   "execution_count": 15,
   "id": "8a0e8a11",
   "metadata": {},
   "outputs": [
    {
     "data": {
      "text/plain": [
       "[(C, C), (C, C), (D, C)]"
      ]
     },
     "execution_count": 15,
     "metadata": {},
     "output_type": "execute_result"
    }
   ],
   "source": [
    "match.result"
   ]
  },
  {
   "cell_type": "markdown",
   "id": "27ce2922",
   "metadata": {},
   "source": [
    "### Inferring strategies"
   ]
  },
  {
   "cell_type": "markdown",
   "id": "9a7984f7",
   "metadata": {},
   "source": [
    "Let's assume we are trying to fit the 16 pure strategies."
   ]
  },
  {
   "cell_type": "markdown",
   "id": "8408b7d0",
   "metadata": {},
   "source": [
    "1. Initially we use `axelrod` for getting the co-player's actions."
   ]
  },
  {
   "cell_type": "code",
   "execution_count": 49,
   "id": "65fdad84",
   "metadata": {},
   "outputs": [],
   "source": [
    "p = axl.Cycler(\"CCDCDDDCDC\")"
   ]
  },
  {
   "cell_type": "code",
   "execution_count": 50,
   "id": "f8048a6a",
   "metadata": {},
   "outputs": [],
   "source": [
    "match = axl.Match(players=[p, q], turns=10)\n",
    "\n",
    "_ = match.play()"
   ]
  },
  {
   "cell_type": "code",
   "execution_count": 51,
   "id": "4debae0d",
   "metadata": {},
   "outputs": [
    {
     "data": {
      "text/plain": [
       "[D, C, C, C, C, C, C, C, C, C]"
      ]
     },
     "execution_count": 51,
     "metadata": {},
     "output_type": "execute_result"
    }
   ],
   "source": [
    " coplayers_actions"
   ]
  },
  {
   "cell_type": "code",
   "execution_count": 52,
   "id": "0fcb185f",
   "metadata": {
    "scrolled": true
   },
   "outputs": [
    {
     "data": {
      "text/plain": [
       "[(C, D),\n",
       " (C, C),\n",
       " (D, C),\n",
       " (C, C),\n",
       " (D, C),\n",
       " (D, C),\n",
       " (D, C),\n",
       " (C, C),\n",
       " (D, C),\n",
       " (C, C)]"
      ]
     },
     "execution_count": 52,
     "metadata": {},
     "output_type": "execute_result"
    }
   ],
   "source": [
    "game_history = match.result\n",
    "\n",
    "game_history"
   ]
  },
  {
   "cell_type": "code",
   "execution_count": 53,
   "id": "c02c9f84",
   "metadata": {},
   "outputs": [],
   "source": [
    "num_possible_s = 32"
   ]
  },
  {
   "cell_type": "code",
   "execution_count": 54,
   "id": "0ab74528",
   "metadata": {},
   "outputs": [],
   "source": [
    "last_turn_outcomes = [\"p0\"] + list(itertools.product([C, D], repeat=2))"
   ]
  },
  {
   "cell_type": "code",
   "execution_count": 55,
   "id": "33d1b13e",
   "metadata": {},
   "outputs": [],
   "source": [
    "pure_transitions = list(itertools.product([C, D], repeat=5))"
   ]
  },
  {
   "cell_type": "code",
   "execution_count": 56,
   "id": "40da24ae",
   "metadata": {},
   "outputs": [],
   "source": [
    "pure_strategies = {f\"M{i}\": \n",
    "               {k:v for k, v in zip(last_turn_outcomes, transitions)} \n",
    "               for i, transitions in enumerate(pure_transitions)}"
   ]
  },
  {
   "cell_type": "code",
   "execution_count": 57,
   "id": "ee0b51e0",
   "metadata": {},
   "outputs": [
    {
     "data": {
      "text/plain": [
       "{'M0': {'p0': C, (C, C): C, (C, D): C, (D, C): C, (D, D): C},\n",
       " 'M1': {'p0': C, (C, C): C, (C, D): C, (D, C): C, (D, D): D},\n",
       " 'M2': {'p0': C, (C, C): C, (C, D): C, (D, C): D, (D, D): C},\n",
       " 'M3': {'p0': C, (C, C): C, (C, D): C, (D, C): D, (D, D): D},\n",
       " 'M4': {'p0': C, (C, C): C, (C, D): D, (D, C): C, (D, D): C},\n",
       " 'M5': {'p0': C, (C, C): C, (C, D): D, (D, C): C, (D, D): D},\n",
       " 'M6': {'p0': C, (C, C): C, (C, D): D, (D, C): D, (D, D): C},\n",
       " 'M7': {'p0': C, (C, C): C, (C, D): D, (D, C): D, (D, D): D},\n",
       " 'M8': {'p0': C, (C, C): D, (C, D): C, (D, C): C, (D, D): C},\n",
       " 'M9': {'p0': C, (C, C): D, (C, D): C, (D, C): C, (D, D): D},\n",
       " 'M10': {'p0': C, (C, C): D, (C, D): C, (D, C): D, (D, D): C},\n",
       " 'M11': {'p0': C, (C, C): D, (C, D): C, (D, C): D, (D, D): D},\n",
       " 'M12': {'p0': C, (C, C): D, (C, D): D, (D, C): C, (D, D): C},\n",
       " 'M13': {'p0': C, (C, C): D, (C, D): D, (D, C): C, (D, D): D},\n",
       " 'M14': {'p0': C, (C, C): D, (C, D): D, (D, C): D, (D, D): C},\n",
       " 'M15': {'p0': C, (C, C): D, (C, D): D, (D, C): D, (D, D): D},\n",
       " 'M16': {'p0': D, (C, C): C, (C, D): C, (D, C): C, (D, D): C},\n",
       " 'M17': {'p0': D, (C, C): C, (C, D): C, (D, C): C, (D, D): D},\n",
       " 'M18': {'p0': D, (C, C): C, (C, D): C, (D, C): D, (D, D): C},\n",
       " 'M19': {'p0': D, (C, C): C, (C, D): C, (D, C): D, (D, D): D},\n",
       " 'M20': {'p0': D, (C, C): C, (C, D): D, (D, C): C, (D, D): C},\n",
       " 'M21': {'p0': D, (C, C): C, (C, D): D, (D, C): C, (D, D): D},\n",
       " 'M22': {'p0': D, (C, C): C, (C, D): D, (D, C): D, (D, D): C},\n",
       " 'M23': {'p0': D, (C, C): C, (C, D): D, (D, C): D, (D, D): D},\n",
       " 'M24': {'p0': D, (C, C): D, (C, D): C, (D, C): C, (D, D): C},\n",
       " 'M25': {'p0': D, (C, C): D, (C, D): C, (D, C): C, (D, D): D},\n",
       " 'M26': {'p0': D, (C, C): D, (C, D): C, (D, C): D, (D, D): C},\n",
       " 'M27': {'p0': D, (C, C): D, (C, D): C, (D, C): D, (D, D): D},\n",
       " 'M28': {'p0': D, (C, C): D, (C, D): D, (D, C): C, (D, D): C},\n",
       " 'M29': {'p0': D, (C, C): D, (C, D): D, (D, C): C, (D, D): D},\n",
       " 'M30': {'p0': D, (C, C): D, (C, D): D, (D, C): D, (D, D): C},\n",
       " 'M31': {'p0': D, (C, C): D, (C, D): D, (D, C): D, (D, D): D}}"
      ]
     },
     "execution_count": 57,
     "metadata": {},
     "output_type": "execute_result"
    }
   ],
   "source": [
    "pure_strategies"
   ]
  },
  {
   "cell_type": "markdown",
   "id": "4637dddf",
   "metadata": {},
   "source": [
    "2. We use the `MemoryOne` class we have defined in `bayesian` which gives us the probability of the action $i$ happening after the history $h_t$."
   ]
  },
  {
   "cell_type": "code",
   "execution_count": 58,
   "id": "1511ed79",
   "metadata": {},
   "outputs": [],
   "source": [
    "strategies_to_fit = [bayesian.MemoryOne(error=0.001, states_action_dict=value)\n",
    "                     for value in pure_strategies.values()]"
   ]
  },
  {
   "cell_type": "code",
   "execution_count": 67,
   "id": "9479e091",
   "metadata": {},
   "outputs": [],
   "source": [
    "priors = [bayesian.init_prior_uniform(num_possible_s) for _ in range(num_possible_s)]\n",
    "\n",
    "\n",
    "# Opening Move\n",
    "\n",
    "opening_move = coplayers_actions[0]\n",
    "\n",
    "\n",
    "likelihoods = [strategy.likelihood(opening_move, \"p0\") for strategy in strategies_to_fit]\n",
    "\n",
    "posteriors = [bayesian.posterior(myprior,\n",
    "                                 mylikelihood, \n",
    "                                 priors,\n",
    "                                 likelihoods) for myprior, mylikelihood in zip(priors, likelihoods)]\n",
    "\n",
    "priors = posteriors \n",
    "    \n",
    "# The rest\n",
    "\n",
    "for turn, turn_action in enumerate(coplayers_actions[1:]):\n",
    "\n",
    "    likelihoods = [strategy.likelihood(turn_action,\n",
    "                                       game_history[turn]) for strategy in strategies_to_fit]\n",
    "\n",
    "    posteriors = [bayesian.posterior(myprior,\n",
    "                                     mylikelihood, \n",
    "                                     priors,\n",
    "                                     likelihoods) for myprior, mylikelihood in zip(priors, likelihoods)]\n",
    "\n",
    "    priors = posteriors"
   ]
  },
  {
   "cell_type": "code",
   "execution_count": 68,
   "id": "4c3178d5",
   "metadata": {},
   "outputs": [
    {
     "data": {
      "text/plain": [
       "array([0.008, 0.008, 0.   , 0.   , 0.   , 0.   , 0.   , 0.   , 0.   ,\n",
       "       0.   , 0.   , 0.   , 0.   , 0.   , 0.   , 0.   , 0.326, 0.326,\n",
       "       0.   , 0.   , 0.007, 0.007, 0.   , 0.   , 0.   , 0.   , 0.   ,\n",
       "       0.   , 0.   , 0.   , 0.   , 0.   ])"
      ]
     },
     "execution_count": 68,
     "metadata": {},
     "output_type": "execute_result"
    }
   ],
   "source": [
    "np.array(posteriors).round(3)"
   ]
  },
  {
   "cell_type": "code",
   "execution_count": 69,
   "id": "240e4acc",
   "metadata": {},
   "outputs": [
    {
     "data": {
      "text/plain": [
       "16"
      ]
     },
     "execution_count": 69,
     "metadata": {},
     "output_type": "execute_result"
    }
   ],
   "source": [
    "np.argmax(np.array(posteriors).round(3))"
   ]
  },
  {
   "cell_type": "code",
   "execution_count": 1,
   "id": "5f3f2e29",
   "metadata": {},
   "outputs": [],
   "source": [
    "import itertools"
   ]
  },
  {
   "cell_type": "code",
   "execution_count": 6,
   "id": "ad0dcc42",
   "metadata": {},
   "outputs": [
    {
     "data": {
      "text/plain": [
       "[(0, 0, 0, 0, 0),\n",
       " (0, 0, 0, 0, 1),\n",
       " (0, 0, 0, 1, 0),\n",
       " (0, 0, 0, 1, 1),\n",
       " (0, 0, 1, 0, 0),\n",
       " (0, 0, 1, 0, 1),\n",
       " (0, 0, 1, 1, 0),\n",
       " (0, 0, 1, 1, 1),\n",
       " (0, 1, 0, 0, 0),\n",
       " (0, 1, 0, 0, 1),\n",
       " (0, 1, 0, 1, 0),\n",
       " (0, 1, 0, 1, 1),\n",
       " (0, 1, 1, 0, 0),\n",
       " (0, 1, 1, 0, 1),\n",
       " (0, 1, 1, 1, 0),\n",
       " (0, 1, 1, 1, 1),\n",
       " (1, 0, 0, 0, 0),\n",
       " (1, 0, 0, 0, 1),\n",
       " (1, 0, 0, 1, 0),\n",
       " (1, 0, 0, 1, 1),\n",
       " (1, 0, 1, 0, 0),\n",
       " (1, 0, 1, 0, 1),\n",
       " (1, 0, 1, 1, 0),\n",
       " (1, 0, 1, 1, 1),\n",
       " (1, 1, 0, 0, 0),\n",
       " (1, 1, 0, 0, 1),\n",
       " (1, 1, 0, 1, 0),\n",
       " (1, 1, 0, 1, 1),\n",
       " (1, 1, 1, 0, 0),\n",
       " (1, 1, 1, 0, 1),\n",
       " (1, 1, 1, 1, 0),\n",
       " (1, 1, 1, 1, 1)]"
      ]
     },
     "execution_count": 6,
     "metadata": {},
     "output_type": "execute_result"
    }
   ],
   "source": [
    "list(itertools.product([0, 1], repeat=5))"
   ]
  },
  {
   "cell_type": "code",
   "execution_count": 4,
   "id": "be638ecd",
   "metadata": {},
   "outputs": [
    {
     "data": {
      "text/plain": [
       "itertools.product"
      ]
     },
     "execution_count": 4,
     "metadata": {},
     "output_type": "execute_result"
    }
   ],
   "source": [
    "itertools.product"
   ]
  }
 ],
 "metadata": {
  "kernelspec": {
   "display_name": "infering",
   "language": "python",
   "name": "infering"
  },
  "language_info": {
   "codemirror_mode": {
    "name": "ipython",
    "version": 3
   },
   "file_extension": ".py",
   "mimetype": "text/x-python",
   "name": "python",
   "nbconvert_exporter": "python",
   "pygments_lexer": "ipython3",
   "version": "3.9.16"
  }
 },
 "nbformat": 4,
 "nbformat_minor": 5
}
